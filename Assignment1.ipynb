{
  "nbformat": 4,
  "nbformat_minor": 0,
  "metadata": {
    "colab": {
      "provenance": [],
      "authorship_tag": "ABX9TyN5TdMjj0Fc2MdfwAM68vTz",
      "include_colab_link": true
    },
    "kernelspec": {
      "name": "python3",
      "display_name": "Python 3"
    },
    "language_info": {
      "name": "python"
    }
  },
  "cells": [
    {
      "cell_type": "markdown",
      "metadata": {
        "id": "view-in-github",
        "colab_type": "text"
      },
      "source": [
        "<a href=\"https://colab.research.google.com/github/cxn10730/Assignment1/blob/main/Assignment1.ipynb\" target=\"_parent\"><img src=\"https://colab.research.google.com/assets/colab-badge.svg\" alt=\"Open In Colab\"/></a>"
      ]
    },
    {
      "cell_type": "code",
      "source": [
        "ages = [19, 22, 19, 24, 20, 25, 26, 24, 25, 24]\n",
        "ages.sort()\n",
        "print('ages list in sorted order:',ages)\n",
        "print(\"Min age:\",min(ages))\n",
        "print(\"Max age:\",max(ages))\n",
        "ages.append(min(ages))\n",
        "ages.append(max(ages))\n",
        "print(ages)\n",
        "ages.sort()\n",
        "print(ages)\n",
        "if len(ages) % 2 == 0:\n",
        "    median = (ages[len(ages) // 2 - 1] + ages[len(ages) // 2]) / 2\n",
        "else:\n",
        "    median = ages[len(ages) // 2]\n",
        "print(\"Median age:\", median)\n",
        "average = sum(ages) / len(ages)  \n",
        "print(\"Average age:\", average)\n",
        "range_of_ages = max(ages) - min(ages)\n",
        "print(\"Range of ages:\", range_of_ages)"
      ],
      "metadata": {
        "colab": {
          "base_uri": "https://localhost:8080/"
        },
        "id": "LF0o0-efsieG",
        "outputId": "cedb0c3f-1c0b-473a-e86a-84307b9d2528"
      },
      "execution_count": null,
      "outputs": [
        {
          "output_type": "stream",
          "name": "stdout",
          "text": [
            "ages list in sorted order: [19, 19, 20, 22, 24, 24, 24, 25, 25, 26]\n",
            "Min age: 19\n",
            "Max age: 26\n",
            "[19, 19, 20, 22, 24, 24, 24, 25, 25, 26, 19, 26]\n",
            "[19, 19, 19, 20, 22, 24, 24, 24, 25, 25, 26, 26]\n",
            "Median age: 24.0\n",
            "Average age: 22.75\n",
            "Range of ages: 7\n"
          ]
        }
      ]
    },
    {
      "cell_type": "code",
      "source": [
        "dog= {}\n",
        "print(dog)\n",
        "dog['name']='Puppy'\n",
        "dog['colour']='White'\n",
        "dog['breed']='Bull dog'\n",
        "dog['legs']=4\n",
        "dog['age']=5\n",
        "print(\"dog dictionary:\", dog)"
      ],
      "metadata": {
        "colab": {
          "base_uri": "https://localhost:8080/"
        },
        "id": "6ykBDS9ak7Yd",
        "outputId": "c6d196f9-09c1-4072-cf28-7bedf53a1836"
      },
      "execution_count": null,
      "outputs": [
        {
          "output_type": "stream",
          "name": "stdout",
          "text": [
            "{}\n",
            "dog dictionary: {'name': 'Puppy', 'colour': 'White', 'breed': 'Bull dog', 'legs': 4, 'age': 5}\n"
          ]
        }
      ]
    },
    {
      "cell_type": "code",
      "source": [
        "student= {'first name': 'Chandu', 'Last name': 'Nadukuda', 'gender': 'female', 'age': 24, 'marital_status': 'married', 'skills': ['Communication' , 'Problem Solving'],\n",
        "          'country': 'India', 'city': 'Hyderabad', 'address': 'Macherla'}\n",
        "print(\"Student Dictionary :\", student)\n",
        "print('length of student dictionary is', len(student))\n",
        "print('values of skills are', student['skills'])\n",
        "print('datatype of skills is', type(student['skills']))\n",
        "student['skills'].append('creativity')\n",
        "print('values of skills are', student['skills'])\n",
        "print('dictionary keys are', list(student.keys()))\n",
        "print('dictionary values are', list(student.values()))"
      ],
      "metadata": {
        "colab": {
          "base_uri": "https://localhost:8080/"
        },
        "id": "iDmyiABEm-x8",
        "outputId": "443d00be-81c0-42fb-c20a-1328944111f1"
      },
      "execution_count": null,
      "outputs": [
        {
          "output_type": "stream",
          "name": "stdout",
          "text": [
            "Student Dictionary : {'first name': 'Chandu', 'Last name': 'Nadukuda', 'gender': 'female', 'age': 24, 'marital_status': 'married', 'skills': ['Communication', 'Problem Solving'], 'country': 'India', 'city': 'Hyderabad', 'address': 'Macherla'}\n",
            "length of student dictionary is 9\n",
            "values of skills are ['Communication', 'Problem Solving']\n",
            "datatype of skills is <class 'list'>\n",
            "values of skills are ['Communication', 'Problem Solving', 'creativity']\n",
            "dictionary keys are ['first name', 'Last name', 'gender', 'age', 'marital_status', 'skills', 'country', 'city', 'address']\n",
            "dictionary values are ['Chandu', 'Nadukuda', 'female', 24, 'married', ['Communication', 'Problem Solving', 'creativity'], 'India', 'Hyderabad', 'Macherla']\n"
          ]
        }
      ]
    },
    {
      "cell_type": "code",
      "source": [
        "brothers= ('Rohith', 'Sampath')\n",
        "Sisters= ('Soumya', 'Madhu')\n",
        "print('brothers are', brothers)\n",
        "print('sisters are', Sisters)\n",
        "siblings = brothers+Sisters\n",
        "print('siblings are', siblings)\n",
        "print('No.of sibling are:', len(siblings))\n",
        "Family_members = (*siblings,'Gangareddy','Laxmi')\n",
        "print('Family_members are', Family_members)"
      ],
      "metadata": {
        "colab": {
          "base_uri": "https://localhost:8080/"
        },
        "id": "icIDsWWuzwOT",
        "outputId": "bb84ef88-f9b9-47b0-b222-539ebcc2ee59"
      },
      "execution_count": null,
      "outputs": [
        {
          "output_type": "stream",
          "name": "stdout",
          "text": [
            "brothers are ('Rohith', 'Sampath')\n",
            "sisters are ('Soumya', 'Madhu')\n",
            "siblings are ('Rohith', 'Sampath', 'Soumya', 'Madhu')\n",
            "No.of sibling are: 4\n",
            "Family_members are ('Rohith', 'Sampath', 'Soumya', 'Madhu', 'Gangareddy', 'Laxmi')\n"
          ]
        }
      ]
    },
    {
      "cell_type": "code",
      "source": [
        "it_companies = {'Facebook', 'Google', 'Microsoft', 'Apple', 'IBM', 'Oracle', 'Amazon'}\n",
        "A = {19, 22, 24, 20, 25, 26}\n",
        "B = {19, 22, 20, 25, 26, 24, 28, 27}\n",
        "print('length of it_companies:', len(it_companies))\n",
        "it_companies.add('Twitter')\n",
        "print('it_companies are:', it_companies)\n",
        "it_companies.update({'Amdocs','HCL'})\n",
        "print('it_companies are:', it_companies)\n",
        "it_companies.remove('Apple')\n",
        "print('it_companies are:', it_companies)\n",
        "it_companies.discard('Banana') \n",
        "A.update(B)\n",
        "print(A)\n",
        "print(B)\n",
        "c=A.intersection(B)\n",
        "print('intersection of A & B', c)\n",
        "print('intersection of A & B', A&B)\n",
        "print('is A subset of B', A.issubset(B))\n",
        "print('are A&B disjoint sets', A.isdisjoint(B))\n",
        "print('join A with B', A.union(B))\n",
        "print('join A with B', B.union(A))\n",
        "result = A.symmetric_difference(B)\n",
        "print(result)\n",
        "print(A^B)\n",
        "print('Symmetric difference between A and B', A.symmetric_difference(B))\n",
        "it_companies.clear()\n",
        "del A\n",
        "del B\n",
        "del it_companies\n",
        "age = [22, 19, 24, 25, 26, 24, 25, 24]\n",
        "ages_set = set(age)\n",
        "print(ages_set)\n",
        "diff = len(age) - len(ages_set)\n",
        "print('differnce between lengths os ages list and ages_set:', diff)\n"
      ],
      "metadata": {
        "colab": {
          "base_uri": "https://localhost:8080/"
        },
        "id": "H-w1vIWq3jTX",
        "outputId": "d91f083c-317a-40a8-d739-9e384900ff58"
      },
      "execution_count": null,
      "outputs": [
        {
          "output_type": "stream",
          "name": "stdout",
          "text": [
            "length of it_companies: 7\n",
            "it_companies are: {'Google', 'IBM', 'Amazon', 'Microsoft', 'Apple', 'Facebook', 'Twitter', 'Oracle'}\n",
            "it_companies are: {'Amdocs', 'Google', 'IBM', 'Amazon', 'Microsoft', 'Apple', 'HCL', 'Facebook', 'Twitter', 'Oracle'}\n",
            "it_companies are: {'Amdocs', 'Google', 'IBM', 'Amazon', 'Microsoft', 'HCL', 'Facebook', 'Twitter', 'Oracle'}\n",
            "{19, 20, 22, 24, 25, 26, 27, 28}\n",
            "{19, 20, 22, 24, 25, 26, 27, 28}\n",
            "intersection of A & B {19, 20, 22, 24, 25, 26, 27, 28}\n",
            "intersection of A & B {19, 20, 22, 24, 25, 26, 27, 28}\n",
            "is A subset of B True\n",
            "are A&B disjoint sets False\n",
            "join A with B {19, 20, 22, 24, 25, 26, 27, 28}\n",
            "join A with B {19, 20, 22, 24, 25, 26, 27, 28}\n",
            "set()\n",
            "set()\n",
            "Symmetric difference between A and B set()\n",
            "{19, 22, 24, 25, 26}\n",
            "differnce between lengths os ages list and ages_set: 3\n"
          ]
        }
      ]
    },
    {
      "cell_type": "markdown",
      "source": [
        "# New Section"
      ],
      "metadata": {
        "id": "vmXgt1S8O3by"
      }
    },
    {
      "cell_type": "code",
      "source": [
        "_area_of_circle_ = 3.14 * 30**2\n",
        "print(_area_of_circle_)\n",
        "_circum_of_circle_ = 2*3.14*30\n",
        "print(_circum_of_circle_)\n",
        "radius=float(input('enter radius of given circle' ))\n",
        "area = 3.14 * radius**2\n",
        "print('area of circle is :', area)"
      ],
      "metadata": {
        "colab": {
          "base_uri": "https://localhost:8080/"
        },
        "id": "ESsUSR0fTiIa",
        "outputId": "8fcef471-d219-4d83-926e-6adc699f7348"
      },
      "execution_count": null,
      "outputs": [
        {
          "output_type": "stream",
          "name": "stdout",
          "text": [
            "2826.0\n",
            "188.4\n",
            "enter radius of given circle30\n",
            "area of circle is : 2826.0\n"
          ]
        }
      ]
    },
    {
      "cell_type": "code",
      "source": [
        "str = 'I am a teacher and I love to inspire and teach people'\n",
        "s = set(str.split(\" \"))\n",
        "print(s)"
      ],
      "metadata": {
        "colab": {
          "base_uri": "https://localhost:8080/"
        },
        "id": "7fr5L-ZQWFvE",
        "outputId": "b450f2c0-aa7a-42cd-c726-cc7520fc2a4e"
      },
      "execution_count": null,
      "outputs": [
        {
          "output_type": "stream",
          "name": "stdout",
          "text": [
            "{'love', 'people', 'and', 'I', 'teacher', 'am', 'a', 'inspire', 'teach', 'to'}\n"
          ]
        }
      ]
    },
    {
      "cell_type": "code",
      "source": [
        "print(\"Name\\t\\tAge\\tCountry\\tCity\\nAsabeneh\\t250\\tFinland\\tHelsinki\")\n"
      ],
      "metadata": {
        "colab": {
          "base_uri": "https://localhost:8080/"
        },
        "id": "JXY_RPEFp3V9",
        "outputId": "70f6466b-54d3-4330-ef5f-edf0b8ee3c17"
      },
      "execution_count": null,
      "outputs": [
        {
          "output_type": "stream",
          "name": "stdout",
          "text": [
            "Name\t\tAge\tCountry\tCity\n",
            "Asabeneh\t250\tFinland\tHelsinki\n"
          ]
        }
      ]
    },
    {
      "cell_type": "code",
      "source": [
        "radius = 10 \n",
        "area = 3.14 * radius ** 2 \n",
        "print('The area of a circle with radius %d is %d meters square.'%(radius,area))\n"
      ],
      "metadata": {
        "colab": {
          "base_uri": "https://localhost:8080/"
        },
        "id": "MHukn00LsPdM",
        "outputId": "7938dc6c-41e9-41a6-8d74-fd4b824a10cc"
      },
      "execution_count": null,
      "outputs": [
        {
          "output_type": "stream",
          "name": "stdout",
          "text": [
            "The area of a circle with radius 10 is 314 meters square.\n"
          ]
        }
      ]
    },
    {
      "cell_type": "code",
      "source": [
        "\n",
        "kgs=[]\n",
        "n= int(input(\"Enter number of students\"))\n",
        "input_pounds = input('Enter %d students weights in pounds saperated by space ' %n)\n",
        "print(\"\\n\")\n",
        "pounds_list = input_pounds.split()\n",
        "print('list: ', pounds_list)\n",
        "for i in range(len(pounds_list)):\n",
        "    pounds_list[i] = int(pounds_list[i])\n",
        "    kilograms = 0.453592 * pounds_list[i]\n",
        "    kgs.append(kilograms)\n",
        "print(kgs)\n"
      ],
      "metadata": {
        "colab": {
          "base_uri": "https://localhost:8080/"
        },
        "id": "RFDhOI7N3o_M",
        "outputId": "5e4aa926-c53e-4c87-aa04-98cf447269fa"
      },
      "execution_count": null,
      "outputs": [
        {
          "output_type": "stream",
          "name": "stdout",
          "text": [
            "Enter number of students4\n",
            "Enter 4 students weights in pounds saperated by space 150 155 145 148\n",
            "\n",
            "\n",
            "list:  ['150', '155', '145', '148']\n",
            "[68.0388, 70.30676, 65.77083999999999, 67.131616]\n"
          ]
        }
      ]
    }
  ]
}